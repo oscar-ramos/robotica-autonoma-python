{
 "cells": [
  {
   "cell_type": "markdown",
   "metadata": {},
   "source": [
    "# Ejemplo de Diagrama de Voronoi\n",
    "\n",
    "[![Open In Colab](https://colab.research.google.com/assets/colab-badge.svg)](https://colab.research.google.com/github/oscar-ramos/robotica-autonoma-python/blob/main/6-Planificacion-Movimiento/6-03-Diagramas-voronoi.ipynb)"
   ]
  },
  {
   "cell_type": "code",
   "execution_count": 3,
   "metadata": {},
   "outputs": [],
   "source": [
    "import numpy as np\n",
    "import matplotlib.pyplot as plt\n",
    "from scipy.spatial import cKDTree, Voronoi"
   ]
  },
  {
   "cell_type": "markdown",
   "metadata": {},
   "source": [
    "### Clase para realizar búsqueda usando el algoritmo de DIjkstra"
   ]
  },
  {
   "cell_type": "code",
   "execution_count": 4,
   "metadata": {},
   "outputs": [],
   "source": [
    "class DijkstraSearch:\n",
    "    class Node:\n",
    "        \"\"\"\n",
    "        Node class for dijkstra search\n",
    "        \"\"\"\n",
    "        def __init__(self, x, y, cost=None, parent=None, edge_ids=None):\n",
    "            self.x = x\n",
    "            self.y = y\n",
    "            self.cost = cost\n",
    "            self.parent = parent\n",
    "            self.edge_ids = edge_ids\n",
    "\n",
    "        def __str__(self):\n",
    "            return str(self.x) + \",\" + str(self.y) + \",\" + str(\n",
    "                self.cost) + \",\" + str(self.parent)\n",
    "\n",
    "    def __init__(self, show_animation=False):\n",
    "        self.show_animation = show_animation\n",
    "\n",
    "    def search_voronoi(self, start, goal, voronoi):\n",
    "        rx, ry = self.search(S[0], S[1], G[0], G[1], \n",
    "                             voronoi.sample_x, voronoi.sample_y,\n",
    "                             voronoi.road_map_info)\n",
    "        return rx, ry\n",
    "        \n",
    "    def search(self, sx, sy, gx, gy, node_x, node_y, edge_ids_list):\n",
    "        \"\"\"\n",
    "        Search shortest path\n",
    "        s_x: start x positions [m]\n",
    "        s_y: start y positions [m]\n",
    "        gx: goal x position [m]\n",
    "        gx: goal x position [m]\n",
    "        node_x: node x position\n",
    "        node_y: node y position\n",
    "        edge_ids_list: edge_list each item includes a list of edge ids\n",
    "        \"\"\"\n",
    "        start_node = self.Node(sx, sy, 0.0, -1)\n",
    "        goal_node = self.Node(gx, gy, 0.0, -1)\n",
    "        current_node = None\n",
    "\n",
    "        open_set, close_set = dict(), dict()\n",
    "        open_set[self.find_id(node_x, node_y, start_node)] = start_node\n",
    "\n",
    "        while True:\n",
    "            if self.has_node_in_set(close_set, goal_node):\n",
    "                print(\"goal is found!\")\n",
    "                goal_node.parent = current_node.parent\n",
    "                goal_node.cost = current_node.cost\n",
    "                break\n",
    "            elif not open_set:\n",
    "                print(\"Cannot find path\")\n",
    "                break\n",
    "\n",
    "            current_id = min(open_set, key=lambda o: open_set[o].cost)\n",
    "            current_node = open_set[current_id]\n",
    "\n",
    "            # show graph\n",
    "            if self.show_animation and len(\n",
    "                    close_set.keys()) % 2 == 0:  # pragma: no cover\n",
    "                plt.plot(current_node.x, current_node.y, \"og\")\n",
    "                # for stopping simulation with the esc key.\n",
    "                plt.gcf().canvas.mpl_connect(\n",
    "                    'key_release_event',\n",
    "                    lambda event: [exit(0) if event.key == 'escape' else None])\n",
    "                plt.pause(0.1)\n",
    "\n",
    "            # Remove the item from the open set\n",
    "            del open_set[current_id]\n",
    "            # Add it to the closed set\n",
    "            close_set[current_id] = current_node\n",
    "\n",
    "            # expand search grid based on motion model\n",
    "            for i in range(len(edge_ids_list[current_id])):\n",
    "                n_id = edge_ids_list[current_id][i]\n",
    "                dx = node_x[n_id] - current_node.x\n",
    "                dy = node_y[n_id] - current_node.y\n",
    "                d = np.hypot(dx, dy)\n",
    "                node = self.Node(node_x[n_id], node_y[n_id],\n",
    "                                 current_node.cost + d, current_id)\n",
    "\n",
    "                if n_id in close_set:\n",
    "                    continue\n",
    "                # Otherwise if it is already in the open set\n",
    "                if n_id in open_set:\n",
    "                    if open_set[n_id].cost > node.cost:\n",
    "                        open_set[n_id] = node\n",
    "                else:\n",
    "                    open_set[n_id] = node\n",
    "\n",
    "        # generate final course\n",
    "        rx, ry = self.generate_final_path(close_set, goal_node)\n",
    "\n",
    "        return rx, ry\n",
    "\n",
    "    @staticmethod\n",
    "    def generate_final_path(close_set, goal_node):\n",
    "        rx, ry = [goal_node.x], [goal_node.y]\n",
    "        parent = goal_node.parent\n",
    "        while parent != -1:\n",
    "            n = close_set[parent]\n",
    "            rx.append(n.x)\n",
    "            ry.append(n.y)\n",
    "            parent = n.parent\n",
    "        rx, ry = rx[::-1], ry[::-1]  # reverse it\n",
    "        return rx, ry\n",
    "\n",
    "    def has_node_in_set(self, target_set, node):\n",
    "        for key in target_set:\n",
    "            if self.is_same_node(target_set[key], node):\n",
    "                return True\n",
    "        return False\n",
    "\n",
    "    def find_id(self, node_x_list, node_y_list, target_node):\n",
    "        for i, _ in enumerate(node_x_list):\n",
    "            if self.is_same_node_with_xy(node_x_list[i], node_y_list[i],\n",
    "                                         target_node):\n",
    "                return i\n",
    "        return None\n",
    "\n",
    "    @staticmethod\n",
    "    def is_same_node_with_xy(node_x, node_y, node_b):\n",
    "        dist = np.hypot(node_x - node_b.x,\n",
    "                        node_y - node_b.y)\n",
    "        return dist <= 0.1\n",
    "\n",
    "    @staticmethod\n",
    "    def is_same_node(node_a, node_b):\n",
    "        dist = np.hypot(node_a.x - node_b.x,\n",
    "                        node_b.y - node_b.y)\n",
    "        return dist <= 0.1"
   ]
  },
  {
   "cell_type": "markdown",
   "metadata": {},
   "source": [
    "### Clase para el diagrama de Voronoi"
   ]
  },
  {
   "cell_type": "code",
   "execution_count": 5,
   "metadata": {},
   "outputs": [],
   "source": [
    "class VoronoiDiagram(object):\n",
    "\n",
    "    def __init__(self, robot_radius, ox, oy):\n",
    "        # Parameters\n",
    "        self.N_KNN = 10                  # number of edge from one sampled point\n",
    "        self.MAX_EDGE_LEN = 30.0         # [m] Maximum edge length\n",
    "        self.robot_radius = robot_radius\n",
    "        self.ox = ox\n",
    "        self.oy = oy\n",
    "    \n",
    "    def generate(self, start, goal):\n",
    "        self.sx = start[0]\n",
    "        self.sy = start[1]\n",
    "        self.gx = goal[0]\n",
    "        self.gy = goal[1]\n",
    "        obstacle_tree = cKDTree(np.vstack((self.ox, self.oy)).T)\n",
    "        self.sample_x, self.sample_y = self.voronoi_sampling()\n",
    "        self.road_map_info = self.generate_road_map_info(obstacle_tree)\n",
    "            \n",
    "    def is_collision(self, sx, sy, gx, gy, rr, obstacle_kd_tree):\n",
    "        x = sx\n",
    "        y = sy\n",
    "        dx = gx - sx\n",
    "        dy = gy - sy\n",
    "        yaw = np.arctan2(gy-sy, gx-sx)\n",
    "        d = np.hypot(dx, dy)\n",
    "        if d >= self.MAX_EDGE_LEN:\n",
    "            return True\n",
    "        D = rr\n",
    "        n_step = round(d / D)\n",
    "        for i in range(n_step):\n",
    "            dist, _ = obstacle_kd_tree.query([x, y])\n",
    "            if dist <= rr:\n",
    "                return True  # collision\n",
    "            x += D * np.cos(yaw)\n",
    "            y += D * np.sin(yaw)\n",
    "        # Goal point check\n",
    "        dist, _ = obstacle_kd_tree.query([gx, gy])\n",
    "        if dist <= rr:\n",
    "            return True  # collision\n",
    "        return False  # OK\n",
    "    \n",
    "    def generate_road_map_info(self, obstacle_tree):\n",
    "        \"\"\"\n",
    "        Road map generation\n",
    "        node_x: [m] x positions of sampled points\n",
    "        node_y: [m] y positions of sampled points\n",
    "        rr: Robot Radius[m]\n",
    "        obstacle_tree: KDTree object of obstacles\n",
    "        \"\"\"\n",
    "        road_map = []\n",
    "        n_sample = len(self.sample_x)\n",
    "        node_tree = cKDTree(np.vstack((self.sample_x, self.sample_y)).T)\n",
    "        for (i, ix, iy) in zip(range(n_sample), self.sample_x, self.sample_y):\n",
    "            dists, indexes = node_tree.query([ix, iy], k=n_sample)\n",
    "            edge_id = []\n",
    "            for ii in range(1, len(indexes)):\n",
    "                nx = self.sample_x[indexes[ii]]\n",
    "                ny = self.sample_y[indexes[ii]]\n",
    "                if not self.is_collision(ix, iy, nx, ny, self.robot_radius, obstacle_tree):\n",
    "                    edge_id.append(indexes[ii])\n",
    "                if len(edge_id) >= self.N_KNN:\n",
    "                    break\n",
    "            road_map.append(edge_id)\n",
    "        return road_map\n",
    "\n",
    "    def plot(self):\n",
    "        plt.plot(self.sample_x, self.sample_y, \".y\")\n",
    "        \n",
    "    def voronoi_sampling(self):\n",
    "        oxy = np.vstack((self.ox, self.oy)).T\n",
    "        # Generate voronoi point\n",
    "        vor = Voronoi(oxy)\n",
    "        sample_x = [ix for [ix, _] in vor.vertices]\n",
    "        sample_y = [iy for [_, iy] in vor.vertices]\n",
    "        sample_x.append(self.sx)\n",
    "        sample_y.append(self.sy)\n",
    "        sample_x.append(self.gx)\n",
    "        sample_y.append(self.gy)\n",
    "        return sample_x, sample_y"
   ]
  },
  {
   "cell_type": "markdown",
   "metadata": {},
   "source": [
    "## Programa Principal"
   ]
  },
  {
   "cell_type": "code",
   "execution_count": 6,
   "metadata": {},
   "outputs": [],
   "source": [
    "# Posición inicial y final\n",
    "S = (10.0, 10.0)  # Start\n",
    "G = (50.0, 50.0)  # Goal\n",
    "\n",
    "# Tamaño del robot\n",
    "robot_size = 5.0 \n",
    "\n",
    "# Obstáculos (paredes)\n",
    "ox = []\n",
    "oy = []\n",
    "\n",
    "for i in range(60):\n",
    "    ox.append(i)\n",
    "    oy.append(0.0)\n",
    "for i in range(60):\n",
    "    ox.append(60.0)\n",
    "    oy.append(i)\n",
    "for i in range(61):\n",
    "    ox.append(i)\n",
    "    oy.append(60.0)\n",
    "for i in range(61):\n",
    "    ox.append(0.0)\n",
    "    oy.append(i)\n",
    "for i in range(40):\n",
    "    ox.append(20.0)\n",
    "    oy.append(i)\n",
    "for i in range(40):\n",
    "    ox.append(40.0)\n",
    "    oy.append(60.0-i)"
   ]
  },
  {
   "cell_type": "code",
   "execution_count": 5,
   "metadata": {},
   "outputs": [
    {
     "data": {
      "image/png": "[encoded data removed]",
      "text/plain": [
       "<Figure size 576x576 with 1 Axes>"
      ]
     },
     "metadata": {
      "needs_background": "light"
     },
     "output_type": "display_data"
    }
   ],
   "source": [
    "# Graficar punto de inicio (start) y punto objetivo (goal)\n",
    "plt.figure(figsize=(8,8))\n",
    "plt.plot(S[0], S[1], \"or\", markersize=15)\n",
    "plt.plot(G[0], G[1], \"ob\", markersize=15)\n",
    "\n",
    "# Mostrar el mapa inicial \n",
    "plt.plot(ox, oy, \"ok\", markersize=7)\n",
    "plt.grid(True)\n",
    "plt.axis(\"equal\")\n",
    "\n",
    "plt.show()"
   ]
  },
  {
   "cell_type": "code",
   "execution_count": 6,
   "metadata": {},
   "outputs": [
    {
     "data": {
      "image/png": "[encoded data removed]",
      "text/plain": [
       "<Figure size 576x576 with 1 Axes>"
      ]
     },
     "metadata": {
      "needs_background": "light"
     },
     "output_type": "display_data"
    }
   ],
   "source": [
    "# Graficar punto de inicio (start) y punto objetivo (goal)\n",
    "plt.figure(figsize=(8,8))\n",
    "plt.plot(S[0], S[1], \"or\", markersize=15)\n",
    "plt.plot(G[0], G[1], \"ob\", markersize=15)\n",
    "\n",
    "# Mostrar el mapa inicial \n",
    "plt.plot(ox, oy, \"ok\", markersize=7)\n",
    "plt.grid(True)\n",
    "plt.axis(\"equal\")\n",
    "\n",
    "# Inicialización del modelo\n",
    "voronoi = VoronoiDiagram(robot_size, ox, oy)\n",
    "# Generar diagrama de Voronoi\n",
    "voronoi.generate(S, G)\n",
    "# Graficar el diagrama de Voronoi\n",
    "voronoi.plot()\n",
    "\n",
    "plt.show()"
   ]
  },
  {
   "cell_type": "code",
   "execution_count": 8,
   "metadata": {},
   "outputs": [
    {
     "name": "stdout",
     "output_type": "stream",
     "text": [
      "goal is found!\n"
     ]
    },
    {
     "data": {
      "image/png": "[encoded data removed]",
      "text/plain": [
       "<Figure size 576x576 with 1 Axes>"
      ]
     },
     "metadata": {
      "needs_background": "light"
     },
     "output_type": "display_data"
    }
   ],
   "source": [
    "# Graficar punto de inicio (start) y punto objetivo (goal)\n",
    "plt.figure(figsize=(8,8))\n",
    "plt.plot(S[0], S[1], \"or\", markersize=15)\n",
    "plt.plot(G[0], G[1], \"ob\", markersize=15)\n",
    "\n",
    "# Mostrar el mapa inicial \n",
    "plt.plot(ox, oy, \"ok\", markersize=7)\n",
    "plt.grid(True)\n",
    "plt.axis(\"equal\")\n",
    "\n",
    "# Inicialización del modelo\n",
    "voronoi = VoronoiDiagram(robot_size, ox, oy)\n",
    "# Generar diagrama de Voronoi\n",
    "voronoi.generate(S, G)\n",
    "# Graficar el diagrama de Voronoi\n",
    "voronoi.plot()\n",
    "\n",
    "# Planificación del movimiento\n",
    "planificador = DijkstraSearch()\n",
    "traj_x, traj_y = planificador.search_voronoi(S, G, voronoi)\n",
    "\n",
    "plt.plot(traj_x, traj_y, \"-r\", linewidth=4)\n",
    "plt.pause(0.5)\n",
    "plt.show()"
   ]
  },
  {
   "cell_type": "code",
   "execution_count": 7,
   "metadata": {},
   "outputs": [],
   "source": [
    "%matplotlib qt"
   ]
  },
  {
   "cell_type": "code",
   "execution_count": 8,
   "metadata": {},
   "outputs": [
    {
     "name": "stdout",
     "output_type": "stream",
     "text": [
      "goal is found!\n"
     ]
    }
   ],
   "source": [
    "# Graficar punto de inicio (start) y punto objetivo (goal)\n",
    "plt.figure(figsize=(8,8))\n",
    "plt.plot(S[0], S[1], \"or\", markersize=15)\n",
    "plt.plot(G[0], G[1], \"ob\", markersize=15)\n",
    "\n",
    "# Mostrar el mapa inicial \n",
    "plt.plot(ox, oy, \"ok\", markersize=7)\n",
    "plt.grid(True)\n",
    "plt.axis(\"equal\")\n",
    "\n",
    "# Inicialización del modelo\n",
    "voronoi = VoronoiDiagram(robot_size, ox, oy)\n",
    "# Generar diagrama de Voronoi\n",
    "voronoi.generate(S, G)\n",
    "# Graficar el diagrama de Voronoi\n",
    "voronoi.plot()\n",
    "\n",
    "# Planificación del movimiento\n",
    "planificador = DijkstraSearch(show_animation=True)\n",
    "traj_x, traj_y = planificador.search_voronoi(S, G, voronoi)\n",
    "\n",
    "plt.plot(traj_x, traj_y, \"-r\", linewidth=5)\n",
    "plt.pause(0.5)\n",
    "plt.show()"
   ]
  },
  {
   "cell_type": "code",
   "execution_count": null,
   "metadata": {},
   "outputs": [],
   "source": []
  }
 ],
 "metadata": {
  "kernelspec": {
   "display_name": "Python 3",
   "language": "python",
   "name": "python3"
  },
  "language_info": {
   "codemirror_mode": {
    "name": "ipython",
    "version": 3
   },
   "file_extension": ".py",
   "mimetype": "text/x-python",
   "name": "python",
   "nbconvert_exporter": "python",
   "pygments_lexer": "ipython3",
   "version": "3.8.5"
  }
 },
 "nbformat": 4,
 "nbformat_minor": 4
}

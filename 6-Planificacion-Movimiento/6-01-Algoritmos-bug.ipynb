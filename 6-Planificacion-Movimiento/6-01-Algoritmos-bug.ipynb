{
 "cells": [
  {
   "cell_type": "markdown",
   "metadata": {},
   "source": [
    "# Ejemplo de algoritmos Bug\n",
    "\n",
    "[![Open In Colab](https://colab.research.google.com/assets/colab-badge.svg)](https://colab.research.google.com/github/oscar-ramos/robotica-autonoma-python/blob/main/6-Planificacion-Movimiento/6-01-Algoritmos-bug.ipynb)"
   ]
  },
  {
   "cell_type": "code",
   "execution_count": 4,
   "metadata": {},
   "outputs": [],
   "source": [
    "import numpy as np\n",
    "import matplotlib.pyplot as plt"
   ]
  },
  {
   "cell_type": "code",
   "execution_count": 5,
   "metadata": {},
   "outputs": [],
   "source": [
    "# Si no se utiliza Google Colab se puede ejecutar la siguiente línea\n",
    "# %matplotlib qt"
   ]
  },
  {
   "cell_type": "markdown",
   "metadata": {},
   "source": [
    "**Obstáculos del entorno**"
   ]
  },
  {
   "cell_type": "markdown",
   "metadata": {},
   "source": [
    "Los obstáculos que se encuentran el entorno el robot están compuestos por bordes definidos en este caso como una secuencia arbitraria de puntos. En este caso, se generará los componentes X, Y de los puntos que definen los obstáculos"
   ]
  },
  {
   "cell_type": "code",
   "execution_count": 6,
   "metadata": {},
   "outputs": [],
   "source": [
    "# Clase que contiene los obstáculos como un conjunto de puntos\n",
    "class EntornoObstaculos:\n",
    "    def __init__(self):\n",
    "        self.obst_x = []\n",
    "        self.obst_y = []\n",
    "\n",
    "    def add(self, obs_x, obs_y):\n",
    "        for i in range(obs_x[0], obs_x[1]):\n",
    "            for j in range(obs_y[0], obs_y[1]):\n",
    "                self.obst_x.append(i)\n",
    "                self.obst_y.append(j)\n",
    "    \n",
    "    def getxy(self):\n",
    "        return (self.obst_x, self.obst_y)\n",
    "\n",
    "obstaculo = EntornoObstaculos()\n",
    "obstaculo.add((20, 40), (20, 40))\n",
    "obstaculo.add((60, 100), (40, 80))\n",
    "obstaculo.add((120, 140), (80, 100))\n",
    "obstaculo.add((80, 140), (0, 20))\n",
    "obstaculo.add((0, 20), (60, 100))\n",
    "obstaculo.add((20, 40), (80, 100))\n",
    "obstaculo.add((120, 160), (40, 60))\n",
    "\n",
    "obst_xy = obstaculo.getxy()"
   ]
  },
  {
   "cell_type": "markdown",
   "metadata": {},
   "source": [
    "Visualización de los obstáculos"
   ]
  },
  {
   "cell_type": "code",
   "execution_count": 7,
   "metadata": {},
   "outputs": [
    {
     "data": {
      "image/png": "[encoded data removed]",
      "text/plain": [
       "<Figure size 640x480 with 1 Axes>"
      ]
     },
     "metadata": {},
     "output_type": "display_data"
    }
   ],
   "source": [
    "plt.plot(obst_xy[0], obst_xy[1], \".k\")\n",
    "plt.grid(True); plt.axis('equal')\n",
    "plt.title('Obstáculos')\n",
    "plt.show()"
   ]
  },
  {
   "cell_type": "markdown",
   "metadata": {},
   "source": [
    "## BugPlanner general"
   ]
  },
  {
   "cell_type": "code",
   "execution_count": 8,
   "metadata": {},
   "outputs": [],
   "source": [
    "class BugPlanner:\n",
    "    def __init__(self, x_start, y_start, x_goal, y_goal, x_obs, y_obs):\n",
    "        self.x_goal = x_goal; self.y_goal = y_goal\n",
    "        self.x_obs = x_obs; self.y_obs = y_obs\n",
    "        self.r_x = [x_start]\n",
    "        self.r_y = [y_start]\n",
    "        self.out_x = []\n",
    "        self.out_y = []\n",
    "        for o_x, o_y in zip(x_obs, y_obs):\n",
    "            for add_x, add_y in zip([1, 0, -1, -1, -1, 0, 1, 1],\n",
    "                                    [1, 1, 1, 0, -1, -1, -1, 0]):\n",
    "                cand_x, cand_y = o_x+add_x, o_y+add_y\n",
    "                valid_point = True\n",
    "                for _x, _y in zip(x_obs, y_obs):\n",
    "                    if cand_x == _x and cand_y == _y:\n",
    "                        valid_point = False\n",
    "                        break\n",
    "                if valid_point:\n",
    "                    self.out_x.append(cand_x), self.out_y.append(cand_y)\n",
    "\n",
    "    def mov_normal(self):\n",
    "        return self.r_x[-1] + np.sign(self.x_goal - self.r_x[-1]), \\\n",
    "               self.r_y[-1] + np.sign(self.y_goal - self.r_y[-1])\n",
    "\n",
    "    def mov_to_next_obs(self, visited_x, visited_y):\n",
    "        for add_x, add_y in zip([1, 0, -1, 0], [0, 1, 0, -1]):\n",
    "            c_x, c_y = self.r_x[-1] + add_x, self.r_y[-1] + add_y\n",
    "            for _x, _y in zip(self.out_x, self.out_y):\n",
    "                use_pt = True\n",
    "                if c_x == _x and c_y == _y:\n",
    "                    for v_x, v_y in zip(visited_x, visited_y):\n",
    "                        if c_x == v_x and c_y == v_y:\n",
    "                            use_pt = False\n",
    "                            break\n",
    "                    if use_pt:\n",
    "                        return c_x, c_y, False\n",
    "                if not use_pt:\n",
    "                    break\n",
    "        return self.r_x[-1], self.r_y[-1], True"
   ]
  },
  {
   "cell_type": "markdown",
   "metadata": {},
   "source": [
    "Función para graficar los obstáculos y la trayectoria"
   ]
  },
  {
   "cell_type": "code",
   "execution_count": 9,
   "metadata": {},
   "outputs": [],
   "source": [
    "def plot_bug(planificador, obst_xy, titulo='BUG'):\n",
    "    plt.plot(obst_xy[0], obst_xy[1], \".k\")\n",
    "    plt.plot(planificador.r_x[-1], planificador.r_y[-1], \"og\")\n",
    "    plt.plot(planificador.x_goal, planificador.y_goal, \"xb\")\n",
    "    plt.plot(planificador.r_x, planificador.r_y, \"-r\")\n",
    "    plt.grid(True)\n",
    "    plt.axis('equal')\n",
    "    plt.title(titulo)"
   ]
  },
  {
   "cell_type": "markdown",
   "metadata": {},
   "source": [
    "## Bug 0 \n",
    "\n",
    "Se implementa el Bug 0 que es un algoritmo donde se realiza movimiento hacia el objetivo hasta chocar con un obstáculo. Luego se navega alrededor del obstáculo (en una dirección arbitraria) hasta que sea posible moverse hacia el objetivo nuevamente en forma voraz (\"greedy\")."
   ]
  },
  {
   "cell_type": "code",
   "execution_count": 10,
   "metadata": {},
   "outputs": [],
   "source": [
    "class Bug0(BugPlanner):\n",
    "    def __init__(self, X_start, X_goal, X_obs, show_animation=False):\n",
    "        super().__init__(X_start[0], X_start[1], X_goal[0], X_goal[1], \n",
    "                         X_obs[0], X_obs[1])\n",
    "        self.show_animation = show_animation\n",
    "\n",
    "    def run(self):\n",
    "        mov_dir = 'normal'\n",
    "        cand_x, cand_y = -np.inf, -np.inf\n",
    "        if self.show_animation:\n",
    "            plt.plot(self.x_obs, self.y_obs, \".k\")\n",
    "            plt.plot(self.r_x[-1], self.r_y[-1], \"og\")\n",
    "            plt.plot(self.x_goal, self.y_goal, \"xb\")\n",
    "            plt.plot(self.out_x, self.out_y, \".\")\n",
    "            plt.grid(True)\n",
    "            plt.axis('equal')\n",
    "            plt.title('BUG 0')\n",
    "\n",
    "        for x_ob, y_ob in zip(self.out_x, self.out_y):\n",
    "            if self.r_x[-1] == x_ob and self.r_y[-1] == y_ob:\n",
    "                mov_dir = 'obs'\n",
    "                break\n",
    "\n",
    "        visited_x, visited_y = [], []\n",
    "        while True:\n",
    "            if self.r_x[-1] == self.x_goal and \\\n",
    "                    self.r_y[-1] == self.y_goal:\n",
    "                break\n",
    "            if mov_dir == 'normal':\n",
    "                cand_x, cand_y = self.mov_normal()\n",
    "            if mov_dir == 'obs':\n",
    "                cand_x, cand_y, _ = self.mov_to_next_obs(visited_x, visited_y)\n",
    "            if mov_dir == 'normal':\n",
    "                found_boundary = False\n",
    "                for x_ob, y_ob in zip(self.out_x, self.out_y):\n",
    "                    if cand_x == x_ob and cand_y == y_ob:\n",
    "                        self.r_x.append(cand_x), self.r_y.append(cand_y)\n",
    "                        visited_x[:], visited_y[:] = [], []\n",
    "                        visited_x.append(cand_x), visited_y.append(cand_y)\n",
    "                        mov_dir = 'obs'\n",
    "                        found_boundary = True\n",
    "                        break\n",
    "                if not found_boundary:\n",
    "                    self.r_x.append(cand_x), self.r_y.append(cand_y)\n",
    "            elif mov_dir == 'obs':\n",
    "                can_go_normal = True\n",
    "                for x_ob, y_ob in zip(self.x_obs, self.y_obs):\n",
    "                    if self.mov_normal()[0] == x_ob and \\\n",
    "                            self.mov_normal()[1] == y_ob:\n",
    "                        can_go_normal = False\n",
    "                        break\n",
    "                if can_go_normal:\n",
    "                    mov_dir = 'normal'\n",
    "                else:\n",
    "                    self.r_x.append(cand_x), self.r_y.append(cand_y)\n",
    "                    visited_x.append(cand_x), visited_y.append(cand_y)\n",
    "            if self.show_animation:\n",
    "                plt.plot(self.r_x, self.r_y, \"-r\")\n",
    "                plt.pause(0.001)\n",
    "        if self.show_animation:\n",
    "            plt.show()"
   ]
  },
  {
   "cell_type": "code",
   "execution_count": 11,
   "metadata": {},
   "outputs": [],
   "source": [
    "# Posición inicial del robot\n",
    "X_init = (0.0, 0.0)\n",
    "\n",
    "# Posición objetivo\n",
    "X_goal = (100.0, 100.0)\n",
    "\n",
    "planificador_bug0 = Bug0(X_init, X_goal, obst_xy, show_animation=False)\n",
    "planificador_bug0.run()"
   ]
  },
  {
   "cell_type": "code",
   "execution_count": 12,
   "metadata": {},
   "outputs": [
    {
     "data": {
      "image/png": "[encoded data removed]",
      "text/plain": [
       "<Figure size 640x480 with 1 Axes>"
      ]
     },
     "metadata": {},
     "output_type": "display_data"
    }
   ],
   "source": [
    "plot_bug(planificador_bug0, obst_xy, 'BUG 0')"
   ]
  },
  {
   "cell_type": "markdown",
   "metadata": {},
   "source": [
    "## Bug 1\n",
    "\n",
    "En el algoritmo Bug 2 el robot se mueve hacia el objetivo de forma voraz (\"greedy\"). Cuando se choca con un obstáculo, se desplaza alrededor del mismo (lo circunnavega) hasta el punto donde se había chocado con el obstáculo. Luego, se retorna al punto sobre el obstáculo que sea más cercano al objetivo y desde allí se inicia el movimiento hacia el objetivo de manera voraz."
   ]
  },
  {
   "cell_type": "code",
   "execution_count": 13,
   "metadata": {},
   "outputs": [],
   "source": [
    "class Bug1(BugPlanner):\n",
    "    def __init__(self, X_start, X_goal, X_obs, show_animation=False):\n",
    "        super().__init__(X_start[0], X_start[1], X_goal[0], X_goal[1], \n",
    "                         X_obs[0], X_obs[1])\n",
    "        self.show_animation = show_animation\n",
    "\n",
    "    def run(self):\n",
    "        mov_dir = 'normal'\n",
    "        cand_x, cand_y = -np.inf, -np.inf\n",
    "        exit_x, exit_y = -np.inf, -np.inf\n",
    "        dist = np.inf\n",
    "        back_to_start = False\n",
    "        second_round = False\n",
    "        if self.show_animation:\n",
    "            plt.plot(self.x_obs, self.y_obs, \".k\")\n",
    "            plt.plot(self.r_x[-1], self.r_y[-1], \"og\")\n",
    "            plt.plot(self.x_goal, self.y_goal, \"xb\")\n",
    "            plt.plot(self.out_x, self.out_y, \".\")\n",
    "            plt.grid(True)\n",
    "            plt.axis('equal')\n",
    "            plt.title('BUG 1')\n",
    "\n",
    "        for xob, yob in zip(self.out_x, self.out_y):\n",
    "            if self.r_x[-1] == xob and self.r_y[-1] == yob:\n",
    "                mov_dir = 'obs'\n",
    "                break\n",
    "\n",
    "        visited_x, visited_y = [], []\n",
    "        while True:\n",
    "            if self.r_x[-1] == self.x_goal and \\\n",
    "                    self.r_y[-1] == self.y_goal:\n",
    "                break\n",
    "            if mov_dir == 'normal':\n",
    "                cand_x, cand_y = self.mov_normal()\n",
    "            if mov_dir == 'obs':\n",
    "                cand_x, cand_y, back_to_start = \\\n",
    "                    self.mov_to_next_obs(visited_x, visited_y)\n",
    "            if mov_dir == 'normal':\n",
    "                found_boundary = False\n",
    "                for x_ob, y_ob in zip(self.out_x, self.out_y):\n",
    "                    if cand_x == x_ob and cand_y == y_ob:\n",
    "                        self.r_x.append(cand_x), self.r_y.append(cand_y)\n",
    "                        visited_x[:], visited_y[:] = [], []\n",
    "                        visited_x.append(cand_x), visited_y.append(cand_y)\n",
    "                        mov_dir = 'obs'\n",
    "                        dist = np.inf\n",
    "                        back_to_start = False\n",
    "                        second_round = False\n",
    "                        found_boundary = True\n",
    "                        break\n",
    "                if not found_boundary:\n",
    "                    self.r_x.append(cand_x), self.r_y.append(cand_y)\n",
    "            elif mov_dir == 'obs':\n",
    "                d = np.linalg.norm(np.array([cand_x, cand_y] -\n",
    "                                            np.array([self.x_goal,\n",
    "                                                      self.y_goal])))\n",
    "                if d < dist and not second_round:\n",
    "                    exit_x, exit_y = cand_x, cand_y\n",
    "                    dist = d\n",
    "                if back_to_start and not second_round:\n",
    "                    second_round = True\n",
    "                    del self.r_x[-len(visited_x):]\n",
    "                    del self.r_y[-len(visited_y):]\n",
    "                    visited_x[:], visited_y[:] = [], []\n",
    "                self.r_x.append(cand_x), self.r_y.append(cand_y)\n",
    "                visited_x.append(cand_x), visited_y.append(cand_y)\n",
    "                if cand_x == exit_x and \\\n",
    "                        cand_y == exit_y and \\\n",
    "                        second_round:\n",
    "                    mov_dir = 'normal'\n",
    "            if self.show_animation:\n",
    "                plt.plot(self.r_x, self.r_y, \"-r\")\n",
    "                plt.pause(0.001)\n",
    "        if self.show_animation:\n",
    "            plt.show()"
   ]
  },
  {
   "cell_type": "code",
   "execution_count": 15,
   "metadata": {},
   "outputs": [],
   "source": [
    "# Posición inicial del robot\n",
    "X_init = (0.0, 0.0)\n",
    "\n",
    "# Posición objetivo\n",
    "X_goal = (100.0, 100.0)\n",
    "\n",
    "planificador_bug1 = Bug1(X_init, X_goal, obst_xy, show_animation=False)\n",
    "planificador_bug1.run()"
   ]
  },
  {
   "cell_type": "code",
   "execution_count": 16,
   "metadata": {},
   "outputs": [
    {
     "data": {
      "image/png": "[encoded data removed]",
      "text/plain": [
       "<Figure size 640x480 with 1 Axes>"
      ]
     },
     "metadata": {},
     "output_type": "display_data"
    }
   ],
   "source": [
    "plt.figure()\n",
    "plot_bug(planificador_bug1, obst_xy, 'BUG 1')\n",
    "\n",
    "# Nota: si no se muestra animado no se visualizará la circunnavegación"
   ]
  },
  {
   "cell_type": "markdown",
   "metadata": {},
   "source": [
    "## Bug 2\n",
    "\n",
    "En este algoritmo el robot se mueve hacia el objetivo de manera voraz. Al chocar con un obstáculo, se mueve alrededor del obstáculo y se registra los valores de la distancia al objetivo. Si la distancia al objetivo disminuye antes y ahora se incrementa, significa que el punto actual probablemente es el punto más cercano al objetivo (podría o no ser verdad debido a que el algoritmo no explora toda la frontera del obstáculo). Luego se parte de este punto y se continúa hacia el objetivo de manera voraz."
   ]
  },
  {
   "cell_type": "code",
   "execution_count": 17,
   "metadata": {},
   "outputs": [],
   "source": [
    "class Bug2(BugPlanner):\n",
    "    def __init__(self, X_start, X_goal, X_obs, show_animation=False):\n",
    "        super().__init__(X_start[0], X_start[1], X_goal[0], X_goal[1], \n",
    "                         X_obs[0], X_obs[1])\n",
    "        self.show_animation = show_animation\n",
    "\n",
    "    def run(self):\n",
    "        mov_dir = 'normal'\n",
    "        cand_x, cand_y = -np.inf, -np.inf\n",
    "        if self.show_animation:\n",
    "            plt.plot(self.x_obs, self.y_obs, \".k\")\n",
    "            plt.plot(self.r_x[-1], self.r_y[-1], \"og\")\n",
    "            plt.plot(self.x_goal, self.y_goal, \"xb\")\n",
    "            plt.plot(self.out_x, self.out_y, \".\")\n",
    "\n",
    "        straight_x, straight_y = [self.r_x[-1]], [self.r_y[-1]]\n",
    "        hit_x, hit_y = [], []\n",
    "        while True:\n",
    "            if (straight_x[-1] == self.x_goal) and (straight_y[-1] == self.y_goal):\n",
    "                break\n",
    "            c_x = straight_x[-1] + np.sign(self.x_goal - straight_x[-1])\n",
    "            c_y = straight_y[-1] + np.sign(self.y_goal - straight_y[-1])\n",
    "            for x_ob, y_ob in zip(self.out_x, self.out_y):\n",
    "                if c_x == x_ob and c_y == y_ob:\n",
    "                    hit_x.append(c_x), hit_y.append(c_y)\n",
    "                    break\n",
    "            straight_x.append(c_x), straight_y.append(c_y)\n",
    "        if self.show_animation:\n",
    "            plt.plot(straight_x, straight_y, \",\")\n",
    "            plt.plot(hit_x, hit_y, \"d\")\n",
    "            plt.grid(True)\n",
    "            plt.axis('equal')\n",
    "            plt.title('BUG 2')\n",
    "\n",
    "        for x_ob, y_ob in zip(self.out_x, self.out_y):\n",
    "            if self.r_x[-1] == x_ob and self.r_y[-1] == y_ob:\n",
    "                mov_dir = 'obs'\n",
    "                break\n",
    "\n",
    "        visited_x, visited_y = [], []\n",
    "        while True:\n",
    "            if self.r_x[-1] == self.x_goal \\\n",
    "                    and self.r_y[-1] == self.y_goal:\n",
    "                break\n",
    "            if mov_dir == 'normal':\n",
    "                cand_x, cand_y = self.mov_normal()\n",
    "            if mov_dir == 'obs':\n",
    "                cand_x, cand_y, _ = self.mov_to_next_obs(visited_x, visited_y)\n",
    "            if mov_dir == 'normal':\n",
    "                found_boundary = False\n",
    "                for x_ob, y_ob in zip(self.out_x, self.out_y):\n",
    "                    if cand_x == x_ob and cand_y == y_ob:\n",
    "                        self.r_x.append(cand_x), self.r_y.append(cand_y)\n",
    "                        visited_x[:], visited_y[:] = [], []\n",
    "                        visited_x.append(cand_x), visited_y.append(cand_y)\n",
    "                        del hit_x[0]\n",
    "                        del hit_y[0]\n",
    "                        mov_dir = 'obs'\n",
    "                        found_boundary = True\n",
    "                        break\n",
    "                if not found_boundary:\n",
    "                    self.r_x.append(cand_x), self.r_y.append(cand_y)\n",
    "            elif mov_dir == 'obs':\n",
    "                self.r_x.append(cand_x), self.r_y.append(cand_y)\n",
    "                visited_x.append(cand_x), visited_y.append(cand_y)\n",
    "                for i_x, i_y in zip(range(len(hit_x)), range(len(hit_y))):\n",
    "                    if cand_x == hit_x[i_x] and cand_y == hit_y[i_y]:\n",
    "                        del hit_x[i_x]\n",
    "                        del hit_y[i_y]\n",
    "                        mov_dir = 'normal'\n",
    "                        break\n",
    "            if self.show_animation:\n",
    "                plt.plot(self.r_x, self.r_y, \"-r\")\n",
    "                plt.pause(0.001)\n",
    "        if self.show_animation:\n",
    "            plt.show()"
   ]
  },
  {
   "cell_type": "code",
   "execution_count": 18,
   "metadata": {},
   "outputs": [],
   "source": [
    "# Posición inicial del robot\n",
    "X_init = (0.0, 0.0)\n",
    "\n",
    "# Posición objetivo\n",
    "X_goal = (100.0, 100.0)\n",
    "\n",
    "planificador_bug2 = Bug2(X_init, X_goal, obst_xy)\n",
    "planificador_bug2.run()"
   ]
  },
  {
   "cell_type": "code",
   "execution_count": 19,
   "metadata": {},
   "outputs": [
    {
     "data": {
      "image/png": "[encoded data removed]",
      "text/plain": [
       "<Figure size 640x480 with 1 Axes>"
      ]
     },
     "metadata": {},
     "output_type": "display_data"
    }
   ],
   "source": [
    "plot_bug(planificador_bug2, obst_xy, 'BUG 2')"
   ]
  }
 ],
 "metadata": {
  "kernelspec": {
   "display_name": "base",
   "language": "python",
   "name": "python3"
  },
  "language_info": {
   "codemirror_mode": {
    "name": "ipython",
    "version": 3
   },
   "file_extension": ".py",
   "mimetype": "text/x-python",
   "name": "python",
   "nbconvert_exporter": "python",
   "pygments_lexer": "ipython3",
   "version": "3.11.4"
  },
  "orig_nbformat": 4
 },
 "nbformat": 4,
 "nbformat_minor": 2
}
